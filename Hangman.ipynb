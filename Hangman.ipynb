{
 "cells": [
  {
   "cell_type": "markdown",
   "metadata": {},
   "source": [
    "Words are sourced from this website and have been saved into a text file: \"http://svnweb.freebsd.org/csrg/share/dict/words?view=co&content-type=text/plain\"\n",
    "\n",
    "For the purposes of hangman, all apostrophes have been removed in the source file"
   ]
  },
  {
   "cell_type": "code",
   "execution_count": 1,
   "metadata": {},
   "outputs": [],
   "source": [
    "import random\n",
    "\n",
    "# Read the list of words for hangman program to choose from\n",
    "word_list = open('words.txt').read().splitlines()"
   ]
  },
  {
   "cell_type": "code",
   "execution_count": 2,
   "metadata": {},
   "outputs": [],
   "source": [
    "# Remove all upper case words, since they are all names\n",
    "word_list = [word for word in word_list if word[0].islower()]"
   ]
  },
  {
   "cell_type": "code",
   "execution_count": 3,
   "metadata": {},
   "outputs": [],
   "source": [
    "# Function to print letters which were correctly guess, and leave unguessed letters as blanks\n",
    "def print_word(chosen_word, guessed_letters):\n",
    "    print_word = []\n",
    "    for i, letter in enumerate(chosen_word):\n",
    "        if letter in guessed_letters:\n",
    "            print_word.append(letter)\n",
    "        else:\n",
    "            print_word.append('_')\n",
    "    return ' '.join(print_word)"
   ]
  },
  {
   "cell_type": "code",
   "execution_count": 4,
   "metadata": {},
   "outputs": [],
   "source": [
    "# Request user to input his next guess\n",
    "def next_letter(guessed_letters):\n",
    "    guess = input('\\nPlease input your next guess: ').lower()\n",
    "    \n",
    "    # Input validation - check if only 1 letter is added\n",
    "    if len(guess) != 1:\n",
    "        print('Please input a character of length 1.')\n",
    "        guess = next_letter(guessed_letters)\n",
    "    \n",
    "    # Input validation - check if input is an alphabet\n",
    "    elif guess.isalpha() == False:\n",
    "        print('Please input alphabets only.')\n",
    "        guess = next_letter(guessed_letters)\n",
    "    \n",
    "    # Input validation - if user has guessed this letter before\n",
    "    elif guess in guessed_letters:\n",
    "        print('You have previously guessed this letter.')\n",
    "        guess = next_letter(guessed_letters)\n",
    "        \n",
    "    return str(guess)"
   ]
  },
  {
   "cell_type": "code",
   "execution_count": 5,
   "metadata": {},
   "outputs": [],
   "source": [
    "# Function to check if user has completed the hangman puzzle\n",
    "def check_complete(chosen_word, guessed_letters):\n",
    "    check = []\n",
    "    check = [i in guessed_letters for i in chosen_word]\n",
    "    return all(check)"
   ]
  },
  {
   "cell_type": "code",
   "execution_count": 6,
   "metadata": {},
   "outputs": [],
   "source": [
    "def hangman(num_guess):\n",
    "    chosen_word = random.choice(word_list)\n",
    "    guessed_letters = []\n",
    "    guess_count = 0 # Counter to keep track of how many uncorrect guesses user made\n",
    "    while guess_count < num_guess:\n",
    "\n",
    "        # Ensure proper grammar - inform user how many guesses he have left\n",
    "        if num_guess - guess_count == 1:\n",
    "            print('\\nYour previous guesses were:', ' '.join(guessed_letters), '.\\nYou have', num_guess - guess_count, 'guess left')\n",
    "        else:\n",
    "            print('\\nYour previous guesses were:', ' '.join(guessed_letters), '.\\nYou have', num_guess - guess_count, 'guesses left')\n",
    "        print(print_word(chosen_word, guessed_letters))\n",
    "        \n",
    "        guess = next_letter(guessed_letters)\n",
    "        if guess in chosen_word:\n",
    "            guessed_letters.append(guess)\n",
    "            if check_complete(chosen_word, guessed_letters):\n",
    "                print('Congratulations! You guessed the word!')\n",
    "                print(print_word(chosen_word, guessed_letters))\n",
    "                break\n",
    "        else:\n",
    "            guessed_letters.append(guess)\n",
    "            guess_count += 1\n",
    "\n",
    "        if guess_count == num_guess:\n",
    "            print('You have lost! The word is:', chosen_word)"
   ]
  },
  {
   "cell_type": "code",
   "execution_count": 7,
   "metadata": {},
   "outputs": [
    {
     "name": "stdout",
     "output_type": "stream",
     "text": [
      "\n",
      "Your previous guesses were:  .\n",
      "You have 7 guesses left\n",
      "_ _ _ _ _\n",
      "\n",
      "Please input your next guess: s\n",
      "\n",
      "Your previous guesses were: s .\n",
      "You have 7 guesses left\n",
      "s _ _ _ _\n",
      "\n",
      "Please input your next guess: t\n",
      "\n",
      "Your previous guesses were: s t .\n",
      "You have 6 guesses left\n",
      "s _ _ _ _\n",
      "\n",
      "Please input your next guess: a\n",
      "\n",
      "Your previous guesses were: s t a .\n",
      "You have 6 guesses left\n",
      "s _ a _ _\n",
      "\n",
      "Please input your next guess: e\n",
      "\n",
      "Your previous guesses were: s t a e .\n",
      "You have 5 guesses left\n",
      "s _ a _ _\n",
      "\n",
      "Please input your next guess: r\n",
      "\n",
      "Your previous guesses were: s t a e r .\n",
      "You have 4 guesses left\n",
      "s _ a _ _\n",
      "\n",
      "Please input your next guess: n\n",
      "\n",
      "Your previous guesses were: s t a e r n .\n",
      "You have 3 guesses left\n",
      "s _ a _ _\n",
      "\n",
      "Please input your next guess: l\n",
      "\n",
      "Your previous guesses were: s t a e r n l .\n",
      "You have 3 guesses left\n",
      "s _ a l l\n",
      "\n",
      "Please input your next guess: m\n",
      "Congratulations! You guessed the word!\n",
      "s m a l l\n"
     ]
    }
   ],
   "source": [
    "hangman(7)"
   ]
  }
 ],
 "metadata": {
  "kernelspec": {
   "display_name": "Python 3",
   "language": "python",
   "name": "python3"
  },
  "language_info": {
   "codemirror_mode": {
    "name": "ipython",
    "version": 3
   },
   "file_extension": ".py",
   "mimetype": "text/x-python",
   "name": "python",
   "nbconvert_exporter": "python",
   "pygments_lexer": "ipython3",
   "version": "3.6.5"
  }
 },
 "nbformat": 4,
 "nbformat_minor": 2
}
